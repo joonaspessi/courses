{
 "cells": [
  {
   "cell_type": "markdown",
   "metadata": {},
   "source": [
    "# Excercise 4\n",
    "\n",
    "ex5"
   ]
  },
  {
   "cell_type": "code",
   "execution_count": 10,
   "metadata": {
    "collapsed": true
   },
   "outputs": [],
   "source": [
    "from math import sqrt, pi\n",
    "from numpy import log, exp, linspace\n",
    "import matplotlib.pyplot as plt"
   ]
  },
  {
   "cell_type": "markdown",
   "metadata": {},
   "source": [
    "#### gaussian\n",
    "\n",
    "returns the Gaussian density with parameters mu and sigma at point x"
   ]
  },
  {
   "cell_type": "code",
   "execution_count": 11,
   "metadata": {
    "collapsed": true
   },
   "outputs": [],
   "source": [
    "def gaussian(x, mu, sigma):\n",
    "    a = 1 / (sqrt(2 * pi) * sigma)\n",
    "    b = exp(-pow(x - mu, 2) / (2 * pow(sigma, 2)))\n",
    "    return a * b"
   ]
  },
  {
   "cell_type": "markdown",
   "metadata": {},
   "source": [
    "#### log_gaussian\n",
    "\n",
    "returns the natural logarithm  of Gaussian density with parameters mu and sigma at point x"
   ]
  },
  {
   "cell_type": "code",
   "execution_count": 12,
   "metadata": {
    "collapsed": true
   },
   "outputs": [],
   "source": [
    "def log_gaussian(x, mu, sigma):\n",
    "    a = log(1 / (sqrt(2 * pi) * sigma))\n",
    "    b = -pow(x - mu, 2) / (2 * pow(sigma, 2))\n",
    "    return a + b"
   ]
  },
  {
   "cell_type": "markdown",
   "metadata": {},
   "source": [
    "### Plot gaussian and log_gaussian"
   ]
  },
  {
   "cell_type": "code",
   "execution_count": 13,
   "metadata": {},
   "outputs": [
    {
     "data": {
      "image/png": "[encoded data removed]",
      "text/plain": [
       "<matplotlib.figure.Figure at 0x10f34a6d8>"
      ]
     },
     "metadata": {},
     "output_type": "display_data"
    }
   ],
   "source": [
    "x = linspace(-5, 5, num=1000)\n",
    "y1 = gaussian(x, 0, 1)\n",
    "y2 = log_gaussian(x, 0, 1)\n",
    "\n",
    "f, axarr = plt.subplots(2)\n",
    "axarr[0].plot(x, y1, 'r', label='gaussian')\n",
    "axarr[1].plot(x, y2, 'b', label='log_gaussian')\n",
    "plt.show()"
   ]
  }
 ],
 "metadata": {
  "kernelspec": {
   "display_name": "Python 3",
   "language": "python",
   "name": "python3"
  },
  "language_info": {
   "codemirror_mode": {
    "name": "ipython",
    "version": 3
   },
   "file_extension": ".py",
   "mimetype": "text/x-python",
   "name": "python",
   "nbconvert_exporter": "python",
   "pygments_lexer": "ipython3",
   "version": "3.6.3"
  }
 },
 "nbformat": 4,
 "nbformat_minor": 1
}
